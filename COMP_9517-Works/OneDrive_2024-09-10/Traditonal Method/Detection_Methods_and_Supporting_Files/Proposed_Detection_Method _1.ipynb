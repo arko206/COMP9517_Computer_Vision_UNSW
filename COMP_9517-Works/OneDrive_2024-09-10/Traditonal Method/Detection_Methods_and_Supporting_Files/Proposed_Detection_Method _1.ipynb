{
 "cells": [
  {
   "cell_type": "code",
   "execution_count": 1,
   "id": "11c007a1",
   "metadata": {},
   "outputs": [],
   "source": [
    "import cv2\n",
    "import matplotlib.pyplot as plt\n",
    "import numpy as np"
   ]
  },
  {
   "cell_type": "markdown",
   "id": "6e212414",
   "metadata": {},
   "source": [
    "###### Shift Detector Function"
   ]
  },
  {
   "cell_type": "code",
   "execution_count": 2,
   "id": "aa15d04b",
   "metadata": {},
   "outputs": [],
   "source": [
    "def create_sift_detector_image_new_task3(img, nf, nOL, cT, eT, si):\n",
    "    sift_create = cv2.SIFT_create(nfeatures=nf, nOctaveLayers=nOL, contrastThreshold=cT, edgeThreshold=eT, sigma=si)\n",
    "    keypt, desc = sift_create.detectAndCompute(img, None)\n",
    "    \n",
    "    number_of_keypts = len(keypt)##'keypt' is a list\n",
    "    \n",
    "    reqd_keypts = int(0.1 * len(keypt))## reguired number of keypoints = 10/100 * keypoints in original image\n",
    "    \n",
    "    sift_create.setNFeatures(reqd_keypts)###setting nfeatures to required number of keypoints\n",
    "    \n",
    "    \n",
    "    new_keypts, desc = sift_create.detectAndCompute(img, None) ##getting the new keypoints and descriptive features\n",
    "    \n",
    "    \n",
    "    return new_keypts, desc"
   ]
  },
  {
   "cell_type": "markdown",
   "id": "eb7b8e68",
   "metadata": {},
   "source": [
    "###### Function for Making Negative Input Image"
   ]
  },
  {
   "cell_type": "code",
   "execution_count": 3,
   "id": "aa40aa23",
   "metadata": {},
   "outputs": [],
   "source": [
    "def negative_image(img):\n",
    "    img_arr = np.zeros(img.shape, dtype=img.dtype)\n",
    "    \n",
    "    for i in range(img_arr.shape[0]):\n",
    "        for j in range(img_arr.shape[1]):\n",
    "            for k in range(img_arr.shape[2]):\n",
    "                img_arr[i][j][k] = 255 - img[i][j][k]##subtracting 255 from pixel value in each channel\n",
    "                \n",
    "    return img_arr            "
   ]
  },
  {
   "cell_type": "markdown",
   "id": "a7e8b738",
   "metadata": {},
   "source": [
    "###### Function for Making Brute Force Matches with the Original and Negative Image"
   ]
  },
  {
   "cell_type": "code",
   "execution_count": 4,
   "id": "aac28429",
   "metadata": {},
   "outputs": [],
   "source": [
    "def Brute_Force_Matches(desc_neg, desc_img):\n",
    "    bf = cv2.BFMatcher(cv2.NORM_L1, crossCheck=False)\n",
    "\n",
    "    matches = bf.match(desc_img,desc_neg)\n",
    "    \n",
    "    ##sorting the matching points according to nearest distance\n",
    "    matches = sorted(matches, key = lambda x:x.distance)\n",
    "    \n",
    "    return matches"
   ]
  },
  {
   "cell_type": "markdown",
   "id": "37dfaa24",
   "metadata": {},
   "source": [
    "###### Function to return Image with bounding box"
   ]
  },
  {
   "cell_type": "code",
   "execution_count": 5,
   "id": "75d0779d",
   "metadata": {},
   "outputs": [],
   "source": [
    "def img_with_bbox(matches, keypts, org_img):\n",
    "    first_match_pts = []\n",
    "\n",
    "    for i in matches:\n",
    "        \n",
    "        ##getting the matching coordinates\n",
    "        matching_coords = keypts[i.queryIdx].pt\n",
    "        first_match_pts.append(matching_coords)\n",
    "        \n",
    "    ##converting the list to array for storing the keypoints\n",
    "    keypoints_first = np.float32(first_match_pts).reshape(-1, 1, 2)\n",
    "    \n",
    "    ##getting the x and y coordinates\n",
    "    x_coordinates = keypoints_first[:, 0, 0]\n",
    "    y_coordinates = keypoints_first[:, 0, 1]\n",
    "    \n",
    "    \n",
    "    ##getting the bottomost right x and topmost left x-cordinates\n",
    "    max_x = np.max(x_coordinates)\n",
    "    min_x = np.min(x_coordinates)\n",
    "    \n",
    "    ####getting the bottomost right y and topmost left y-cordinates\n",
    "    max_y = np.max(y_coordinates)\n",
    "    min_y = np.min(y_coordinates)\n",
    "    \n",
    "   \n",
    "    cr_x_min = int(min_x)\n",
    "    cr_y_min = int(min_y)\n",
    "    cr_x_max = int(max_x)\n",
    "    cr_y_max = int(max_y)\n",
    "    \n",
    "    ###calculating the width and height of the bounding box\n",
    "    width_bbox = cr_x_max - cr_x_min\n",
    "    \n",
    "    height_bbox = cr_y_max - cr_y_min\n",
    "\n",
    "    return cr_x_min, cr_y_min, (width_bbox + cr_x_min) , (height_bbox + cr_y_min)"
   ]
  },
  {
   "cell_type": "markdown",
   "id": "5a64afdb",
   "metadata": {},
   "source": [
    "##### Custom Algorithm when length of matching points < 55"
   ]
  },
  {
   "cell_type": "code",
   "execution_count": 6,
   "id": "b513f2c2",
   "metadata": {},
   "outputs": [],
   "source": [
    "def Contour_Detect_Algo_OpenCV(img):\n",
    "    \n",
    "    ##Saving the Copy of the Image\n",
    "    img_copy = img.copy()\n",
    "    \n",
    "    \n",
    "    ##Step 1: Convert the Image to Grayscale\n",
    "    img_gray = cv2.cvtColor(img_copy, cv2.COLOR_BGR2GRAY)\n",
    "    \n",
    "    ##Step 2: Reversing the Intensity of the Image\n",
    "    reverse_gray = cv2.bitwise_not(img_gray)\n",
    "    \n",
    "    #Step 3: Binary Thresholded Image formation with thresh=180\n",
    "    _, img_binary = cv2.threshold(reverse_gray, 180, 255, cv2.THRESH_BINARY)\n",
    "    \n",
    "    \n",
    "    #Step 4: finding all the contours from the thresholded image\n",
    "    contours, hierarchy = cv2.findContours(img_binary, cv2.RETR_LIST, cv2.CHAIN_APPROX_SIMPLE)\n",
    "    \n",
    "    ##checking if the length of contours or number of contours > 0\n",
    "    if len(contours) > 0:\n",
    "        \n",
    "        ###evaluating the largest area of the contour\n",
    "        biggest_contour = max(contours, key = cv2.contourArea)\n",
    "        \n",
    "        ##getting the coordinates of the bounding box\n",
    "        x, y, w, h = cv2.boundingRect(biggest_contour)\n",
    "            \n",
    "        x_min = x\n",
    "        y_min = y\n",
    "    \n",
    "        x_max = x + w\n",
    "        y_max = y + h\n",
    "        \n",
    "    else:\n",
    "        x_min = 0   ##if still number of contours detected in image is 0, returning original input image\n",
    "        y_min = 0\n",
    "        x_max = img_copy.shape[0]\n",
    "        y_max = img_copy.shape[1]\n",
    "    \n",
    "    return x_min, y_min, x_max , y_max"
   ]
  },
  {
   "cell_type": "markdown",
   "id": "df7ac59e",
   "metadata": {},
   "source": [
    "##### Main Function For the Proposed Detection Method"
   ]
  },
  {
   "cell_type": "code",
   "execution_count": 8,
   "id": "6acc11a4",
   "metadata": {},
   "outputs": [],
   "source": [
    "def detection_T3(img):\n",
    "    \n",
    "    img_copy = img.copy()\n",
    "    ##Step 1: Conversion to negative Image\n",
    "    neg_img = negative_image(img)\n",
    "    #plt.imshow(neg_img)\n",
    "    \n",
    "    ## Step 2: getting shift descriptor points from original image\n",
    "    keypts_img, desc_img = create_sift_detector_image_new_task3(img, 0, 4, 0.04, 50, 1.67)\n",
    "    \n",
    "    \n",
    "    ##Step 3: getting shift descriptor points from negative image\n",
    "    keypts_neg_img, desc_neg = create_sift_detector_image_new_task3(neg_img, 0, 4, 0.04, 50, 1.67)\n",
    "    \n",
    "    ## Step4: finding matching keypoints between the negative and original image\n",
    "    matching_keypts = Brute_Force_Matches(desc_neg, desc_img)\n",
    "    \n",
    "   \n",
    "    \n",
    "    ###Step 5: Bounding the image with bounding box\n",
    "    if len(matching_keypts) > 55:\n",
    "        x_min, y_min, x_max, y_max = img_with_bbox(matching_keypts, keypts_img, img)\n",
    "        \n",
    "    else:\n",
    "        \n",
    "        x_min, y_min, x_max, y_max = Contour_Detect_Algo_OpenCV(img_copy)\n",
    "    \n",
    "    return x_min, y_min, x_max, y_max \n",
    "       "
   ]
  },
  {
   "cell_type": "markdown",
   "id": "18b0293a",
   "metadata": {},
   "source": [
    "##### Loading Dataset Function for Training Directory"
   ]
  },
  {
   "cell_type": "code",
   "execution_count": 9,
   "id": "dd4104bc",
   "metadata": {},
   "outputs": [],
   "source": [
    "import os\n",
    "def loading_of_dataset(directory):\n",
    "    imgs_dir = os.listdir(directory)\n",
    "    \n",
    "    \n",
    "    count = 0\n",
    "    for label in imgs_dir:\n",
    "        img_dir = os.path.join(directory, label)##taking the full image directory\n",
    "        image = cv2.imread(img_dir)\n",
    "        img_rgb = image[:,:,::-1]\n",
    "        min_x, min_y, max_x, max_y = detection_T3(image)\n",
    "        \n",
    "        cropped_image = image[min_y:max_y, min_x:max_x]\n",
    "        \n",
    "        cv2.imwrite('Final_Train_Set/{}.jpg'.format(count), cropped_image)\n",
    "        count = count + 1\n",
    "        \n",
    "        \n",
    "         "
   ]
  },
  {
   "cell_type": "markdown",
   "id": "a1195979",
   "metadata": {},
   "source": [
    "###### Loading the Trainset Directory Images"
   ]
  },
  {
   "cell_type": "code",
   "execution_count": 10,
   "id": "203ba753",
   "metadata": {},
   "outputs": [],
   "source": [
    "train_directory = 'Penguins vs Turtles/archive/train/train'\n",
    "loading_of_dataset(train_directory)"
   ]
  },
  {
   "cell_type": "markdown",
   "id": "3e223ef1",
   "metadata": {},
   "source": [
    "##### Loading Dataset to Validation Directory"
   ]
  },
  {
   "cell_type": "code",
   "execution_count": 11,
   "id": "4809eafe",
   "metadata": {},
   "outputs": [],
   "source": [
    "import os\n",
    "def loading_of_dataset(directory):\n",
    "    imgs_dir = os.listdir(directory)\n",
    "    \n",
    "    predicted_coordinates = []\n",
    "    count = 0\n",
    "    for label in imgs_dir:\n",
    "        img_dir = os.path.join(directory, label)##taking the full image directory\n",
    "        image = cv2.imread(img_dir)\n",
    "        img_rgb = image[:,:,::-1]\n",
    "    \n",
    "        \n",
    "        \n",
    "        min_x, min_y, max_x, max_y = detection_T3(image)\n",
    "        \n",
    "        \n",
    "        predicted_coordinates.append([min_x, min_y, max_x, max_y])\n",
    "        \n",
    "       \n",
    "        cropped_image = image[min_y:max_y, min_x:max_x]\n",
    "    \n",
    "        \n",
    "        cv2.imwrite('Last_Valid_Set/{}.jpg'.format(count),  cropped_image)\n",
    "        count = count + 1\n",
    "        \n",
    "    return predicted_coordinates    \n",
    "         "
   ]
  },
  {
   "cell_type": "code",
   "execution_count": 12,
   "id": "32ed4ce1",
   "metadata": {},
   "outputs": [],
   "source": [
    "validation_directory = 'Penguins vs Turtles/archive/valid/valid'\n",
    "list_of_coords = loading_of_dataset(validation_directory)"
   ]
  },
  {
   "cell_type": "code",
   "execution_count": 13,
   "id": "67fb32e6",
   "metadata": {},
   "outputs": [
    {
     "data": {
      "text/plain": [
       "[[214, 107, 628, 620],\n",
       " [16, 113, 621, 526],\n",
       " [54, 108, 603, 533],\n",
       " [137, 117, 564, 531],\n",
       " [89, 165, 540, 633],\n",
       " [10, 30, 632, 602],\n",
       " [64, 62, 579, 474],\n",
       " [122, 16, 529, 512],\n",
       " [19, 24, 623, 538],\n",
       " [455, 401, 502, 470],\n",
       " [9, 78, 632, 559],\n",
       " [49, 0, 592, 295],\n",
       " [158, 31, 633, 355],\n",
       " [82, 15, 556, 622],\n",
       " [92, 125, 546, 634],\n",
       " [364, 296, 420, 404],\n",
       " [14, 174, 597, 532],\n",
       " [34, 24, 606, 589],\n",
       " [14, 80, 625, 579],\n",
       " [100, 210, 611, 556],\n",
       " [13, 135, 620, 532],\n",
       " [10, 2, 634, 593],\n",
       " [0, 259, 411, 533],\n",
       " [164, 260, 508, 534],\n",
       " [9, 76, 376, 559],\n",
       " [36, 210, 640, 411],\n",
       " [10, 108, 604, 522],\n",
       " [109, 172, 591, 531],\n",
       " [26, 289, 464, 446],\n",
       " [51, 204, 623, 516],\n",
       " [7, 55, 612, 593],\n",
       " [207, 323, 351, 411],\n",
       " [118, 188, 465, 486],\n",
       " [7, 266, 633, 559],\n",
       " [0, 430, 99, 486],\n",
       " [33, 82, 610, 634],\n",
       " [6, 79, 630, 560],\n",
       " [2, 198, 620, 532],\n",
       " [3, 102, 636, 544],\n",
       " [0, 108, 640, 532],\n",
       " [47, 98, 571, 636],\n",
       " [68, 240, 605, 530],\n",
       " [406, 255, 468, 312],\n",
       " [6, 80, 610, 565],\n",
       " [3, 108, 624, 532],\n",
       " [109, 232, 530, 614],\n",
       " [209, 159, 403, 457],\n",
       " [126, 1, 573, 267],\n",
       " [341, 171, 465, 333],\n",
       " [35, 194, 556, 577],\n",
       " [0, 123, 640, 517],\n",
       " [384, 356, 466, 531],\n",
       " [58, 257, 599, 555],\n",
       " [17, 12, 636, 628],\n",
       " [5, 253, 636, 530],\n",
       " [172, 67, 509, 579],\n",
       " [8, 180, 529, 543],\n",
       " [342, 136, 425, 232],\n",
       " [36, 7, 604, 500],\n",
       " [12, 117, 635, 531],\n",
       " [201, 130, 639, 464],\n",
       " [13, 203, 634, 550],\n",
       " [27, 208, 392, 418],\n",
       " [5, 167, 630, 531],\n",
       " [397, 315, 538, 475],\n",
       " [198, 124, 524, 260],\n",
       " [34, 320, 436, 456],\n",
       " [2, 150, 633, 489],\n",
       " [2, 101, 636, 541],\n",
       " [3, 103, 636, 635],\n",
       " [14, 45, 632, 593],\n",
       " [216, 39, 551, 359]]"
      ]
     },
     "execution_count": 13,
     "metadata": {},
     "output_type": "execute_result"
    }
   ],
   "source": [
    "list_of_coords"
   ]
  },
  {
   "cell_type": "code",
   "execution_count": 14,
   "id": "3901db12",
   "metadata": {},
   "outputs": [
    {
     "data": {
      "text/plain": [
       "72"
      ]
     },
     "execution_count": 14,
     "metadata": {},
     "output_type": "execute_result"
    }
   ],
   "source": [
    "len(list_of_coords)"
   ]
  },
  {
   "cell_type": "code",
   "execution_count": 15,
   "id": "bdebde69",
   "metadata": {},
   "outputs": [],
   "source": [
    "import json"
   ]
  },
  {
   "cell_type": "code",
   "execution_count": 16,
   "id": "f8b6c29b",
   "metadata": {},
   "outputs": [],
   "source": [
    "valid_annotations_dir = 'valid_annotations'"
   ]
  },
  {
   "cell_type": "code",
   "execution_count": 17,
   "id": "4286d4d2",
   "metadata": {},
   "outputs": [],
   "source": [
    "with open(valid_annotations_dir, 'r') as f:\n",
    "    valid_annotations_given = json.load(f)"
   ]
  },
  {
   "cell_type": "code",
   "execution_count": 18,
   "id": "d473cf41",
   "metadata": {},
   "outputs": [
    {
     "data": {
      "text/plain": [
       "298"
      ]
     },
     "execution_count": 18,
     "metadata": {},
     "output_type": "execute_result"
    }
   ],
   "source": [
    "valid_annotations_given[0]['bbox'][2]"
   ]
  },
  {
   "cell_type": "code",
   "execution_count": 19,
   "id": "a875928f",
   "metadata": {},
   "outputs": [],
   "source": [
    "actual_coordinates = []\n",
    "\n",
    "for i in range(len(list_of_coords)):\n",
    "    ##getting x_max = width + x_min\n",
    "    x_min, y_min, width, height = valid_annotations_given[i]['bbox']\n",
    "    actual_coordinates.append([x_min, y_min, x_min + width, y_min + height])"
   ]
  },
  {
   "cell_type": "code",
   "execution_count": 20,
   "id": "e6acf5f0",
   "metadata": {},
   "outputs": [
    {
     "data": {
      "text/plain": [
       "[[227, 93, 525, 618],\n",
       " [211, 198, 639, 457],\n",
       " [0, 243, 512, 510],\n",
       " [128, 178, 585, 532],\n",
       " [168, 131, 464, 600],\n",
       " [6, 121, 451, 592],\n",
       " [63, 161, 501, 483],\n",
       " [188, 252, 442, 528],\n",
       " [375, 237, 564, 552],\n",
       " [364, 223, 505, 469],\n",
       " [155, 173, 640, 533],\n",
       " [133, 271, 484, 387],\n",
       " [141, 39, 640, 421],\n",
       " [126, 414, 519, 565],\n",
       " [178, 119, 464, 602],\n",
       " [363, 187, 618, 406],\n",
       " [103, 167, 599, 433],\n",
       " [60, 167, 546, 640],\n",
       " [164, 284, 320, 357],\n",
       " [114, 205, 625, 428],\n",
       " [137, 111, 533, 516],\n",
       " [159, 321, 442, 548],\n",
       " [0, 228, 414, 436],\n",
       " [156, 248, 514, 533],\n",
       " [43, 138, 301, 526],\n",
       " [35, 209, 639, 412],\n",
       " [4, 169, 490, 519],\n",
       " [252, 168, 640, 386],\n",
       " [223, 256, 456, 372],\n",
       " [193, 231, 552, 454],\n",
       " [61, 127, 514, 580],\n",
       " [171, 297, 464, 440],\n",
       " [76, 179, 482, 534],\n",
       " [75, 306, 423, 450],\n",
       " [231, 333, 346, 396],\n",
       " [155, 161, 489, 486],\n",
       " [56, 186, 599, 460],\n",
       " [258, 294, 352, 468],\n",
       " [193, 152, 335, 515],\n",
       " [168, 180, 640, 414],\n",
       " [94, 251, 500, 573],\n",
       " [232, 230, 585, 405],\n",
       " [316, 252, 520, 509],\n",
       " [99, 81, 582, 561],\n",
       " [252, 215, 524, 384],\n",
       " [177, 204, 461, 406],\n",
       " [130, 154, 406, 457],\n",
       " [199, 199, 433, 432],\n",
       " [228, 170, 575, 557],\n",
       " [240, 184, 396, 397],\n",
       " [1, 229, 584, 514],\n",
       " [97, 128, 469, 533],\n",
       " [174, 245, 412, 377],\n",
       " [139, 192, 359, 424],\n",
       " [224, 246, 449, 468],\n",
       " [169, 48, 527, 587],\n",
       " [178, 251, 240, 382],\n",
       " [263, 127, 636, 525],\n",
       " [217, 344, 523, 606],\n",
       " [76, 181, 520, 466],\n",
       " [197, 127, 639, 468],\n",
       " [248, 192, 406, 515],\n",
       " [28, 206, 484, 534],\n",
       " [53, 162, 325, 497],\n",
       " [260, 198, 539, 489],\n",
       " [137, 93, 558, 278],\n",
       " [2, 292, 454, 460],\n",
       " [198, 288, 471, 423],\n",
       " [58, 225, 263, 508],\n",
       " [162, 109, 513, 436],\n",
       " [23, 87, 562, 541],\n",
       " [213, 38, 558, 367]]"
      ]
     },
     "execution_count": 20,
     "metadata": {},
     "output_type": "execute_result"
    }
   ],
   "source": [
    "actual_coordinates"
   ]
  },
  {
   "cell_type": "code",
   "execution_count": 21,
   "id": "4a07f2d0",
   "metadata": {},
   "outputs": [
    {
     "data": {
      "text/plain": [
       "72"
      ]
     },
     "execution_count": 21,
     "metadata": {},
     "output_type": "execute_result"
    }
   ],
   "source": [
    "len(actual_coordinates)"
   ]
  },
  {
   "cell_type": "markdown",
   "id": "ca740072",
   "metadata": {},
   "source": [
    "##### Testing Detection Model Coordinates"
   ]
  },
  {
   "cell_type": "code",
   "execution_count": 22,
   "id": "d7040aab",
   "metadata": {},
   "outputs": [],
   "source": [
    "import math"
   ]
  },
  {
   "cell_type": "code",
   "execution_count": 23,
   "id": "1cb5a8ae",
   "metadata": {},
   "outputs": [],
   "source": [
    "def estimate_centre_pos(coords_list):\n",
    "    \n",
    "    ##getting the following coordinates\n",
    "    x_min, y_min, x_max, y_max = coords_list\n",
    "    \n",
    "    ##estimating center pos of x-coordinate\n",
    "    x_center = (x_min + x_max)/2 \n",
    "    \n",
    "    ##estimating center pos of y-coordinate\n",
    "    y_center = (y_min + y_max)/2 \n",
    "    \n",
    "    \n",
    "    return x_center, y_center   "
   ]
  },
  {
   "cell_type": "code",
   "execution_count": 24,
   "id": "faaec56a",
   "metadata": {},
   "outputs": [],
   "source": [
    "def Euclid_Dist_coords(pred_list, actual_list):\n",
    "    \n",
    "    ##getting centre positions of predicted bounding box\n",
    "    center_x_pred, center_y_pred = estimate_centre_pos(pred_list)\n",
    "    \n",
    "    ##getting center positions of actual bounding box\n",
    "    center_x_actual, center_y_actual = estimate_centre_pos(actual_list)\n",
    "    \n",
    "    ##calculating the euclidean distance\n",
    "    centre_distance = math.sqrt((center_x_pred - center_x_actual)**2 + (center_y_pred - center_y_actual)**2)\n",
    "    \n",
    "    return centre_distance  "
   ]
  },
  {
   "cell_type": "code",
   "execution_count": 25,
   "id": "1bc44f15",
   "metadata": {},
   "outputs": [
    {
     "data": {
      "text/plain": [
       "72"
      ]
     },
     "execution_count": 25,
     "metadata": {},
     "output_type": "execute_result"
    }
   ],
   "source": [
    "len(list_of_coords)"
   ]
  },
  {
   "cell_type": "code",
   "execution_count": 26,
   "id": "12e72810",
   "metadata": {},
   "outputs": [
    {
     "data": {
      "text/plain": [
       "72"
      ]
     },
     "execution_count": 26,
     "metadata": {},
     "output_type": "execute_result"
    }
   ],
   "source": [
    "len(actual_coordinates)"
   ]
  },
  {
   "cell_type": "code",
   "execution_count": 27,
   "id": "37d0d318",
   "metadata": {},
   "outputs": [],
   "source": [
    "measures_dist = []\n",
    "for i, j in zip(list_of_coords, actual_coordinates):\n",
    "    dist = Euclid_Dist_coords(i, j)\n",
    "    measures_dist.append(dist)"
   ]
  },
  {
   "cell_type": "code",
   "execution_count": 28,
   "id": "366a9cff",
   "metadata": {},
   "outputs": [
    {
     "data": {
      "text/plain": [
       "[45.70557952810576,\n",
       " 106.80004681646913,\n",
       " 91.6092244263644,\n",
       " 31.575306807693888,\n",
       " 33.53356527421443,\n",
       " 100.97772031492887,\n",
       " 66.90478308760892,\n",
       " 126.43674307731911,\n",
       " 186.90773124726542,\n",
       " 99.73088789337032,\n",
       " 84.37564814565872,\n",
       " 181.89626164382818,\n",
       " 37.33630940518894,\n",
       " 171.0358149628317,\n",
       " 19.1049731745428,\n",
       " 112.09148049695838,\n",
       " 69.85162847063768,\n",
       " 98.47842403288143,\n",
       " 78.02083055184686,\n",
       " 67.9577074363166,\n",
       " 27.244265451650556,\n",
       " 138.67678248358663,\n",
       " 64.01757571167468,\n",
       " 6.576473218982953,\n",
       " 25.10975905897944,\n",
       " 1.0,\n",
       " 66.64082832618455,\n",
       " 121.51645979043333,\n",
       " 108.59327787667154,\n",
       " 39.5790348543266,\n",
       " 36.800135869314396,\n",
       " 38.52920969861697,\n",
       " 23.16246964380094,\n",
       " 78.93826701923471,\n",
       " 256.63836424042296,\n",
       " 34.50362299817223,\n",
       " 10.124228365658293,\n",
       " 17.08800749063506,\n",
       " 56.48451115128819,\n",
       " 87.09190547921202,\n",
       " 46.57252408878007,\n",
       " 98.6927048975759,\n",
       " 98.84331034521254,\n",
       " 32.53459696999488,\n",
       " 77.26901060580497,\n",
       " 118.00105931727902,\n",
       " 38.08214804865923,\n",
       " 184.56570645707723,\n",
       " 111.5100892296298,\n",
       " 97.62812094883319,\n",
       " 58.382360349680965,\n",
       " 181.47451611727746,\n",
       " 101.41622158215125,\n",
       " 78.42352963237501,\n",
       " 38.029593739612835,\n",
       " 9.300537618869138,\n",
       " 74.60060321471938,\n",
       " 156.58863304850706,\n",
       " 227.07322607476206,\n",
       " 25.5049014897137,\n",
       " 2.0615528128088303,\n",
       " 23.264780248263683,\n",
       " 73.56119901143536,\n",
       " 129.9711506450566,\n",
       " 85.30093786119822,\n",
       " 14.983324063771697,\n",
       " 13.892443989449804,\n",
       " 39.81205847478876,\n",
       " 164.9014857422455,\n",
       " 98.16440291673963,\n",
       " 30.907118921051183,\n",
       " 4.031128874149275]"
      ]
     },
     "execution_count": 28,
     "metadata": {},
     "output_type": "execute_result"
    }
   ],
   "source": [
    "measures_dist"
   ]
  },
  {
   "cell_type": "markdown",
   "id": "ae3e8ae9",
   "metadata": {},
   "source": [
    "###### Calculation of mean and standard deviation between centers of predicted and actual bounding box"
   ]
  },
  {
   "cell_type": "code",
   "execution_count": 29,
   "id": "e73c51a4",
   "metadata": {},
   "outputs": [
    {
     "name": "stdout",
     "output_type": "stream",
     "text": [
      "Mean Distance between Center of Prdicted and Actual is:  77.55542809528269\n"
     ]
    }
   ],
   "source": [
    "mean_dist_btwn_centres = sum(measures_dist)/len(measures_dist)\n",
    "print(\"Mean Distance between Center of Prdicted and Actual is: \", mean_dist_btwn_centres)"
   ]
  },
  {
   "cell_type": "code",
   "execution_count": 30,
   "id": "6ee912a4",
   "metadata": {},
   "outputs": [],
   "source": [
    "def calculate_Standard_dev(data, mean):\n",
    "    \n",
    "    #mean = calculate_mean(data)\n",
    "    \n",
    "    sum_squared_diff = 0\n",
    "    for x in data:\n",
    "        sq_diff = (x - mean) ** 2\n",
    "        sum_squared_diff = sum_squared_diff + sq_diff\n",
    "        \n",
    "        \n",
    "    variance = sum_squared_diff / len(data)\n",
    "    \n",
    "    standard_dev = math.sqrt(variance)\n",
    "\n",
    "    return  standard_dev"
   ]
  },
  {
   "cell_type": "code",
   "execution_count": 31,
   "id": "bf3bac8c",
   "metadata": {},
   "outputs": [
    {
     "name": "stdout",
     "output_type": "stream",
     "text": [
      "Standard Deviation between Center of Prdicted and Actual is:  56.19125960761847\n"
     ]
    }
   ],
   "source": [
    "standard_dev_btwn_centers = calculate_Standard_dev(measures_dist, mean_dist_btwn_centres)\n",
    "print(\"Standard Deviation between Center of Prdicted and Actual is: \", standard_dev_btwn_centers)"
   ]
  },
  {
   "cell_type": "markdown",
   "id": "2549b656",
   "metadata": {},
   "source": [
    "###### Testing Detection by IOU "
   ]
  },
  {
   "cell_type": "code",
   "execution_count": 32,
   "id": "679961d5",
   "metadata": {},
   "outputs": [],
   "source": [
    "def estimate_intersect_area(pred_cords, actual_cords):\n",
    "    \n",
    "    x_min_pred, y_min_pred, x_max_pred, y_max_pred = pred_cords\n",
    "    \n",
    "    x_min_actual, y_min_actual, x_max_actual, y_max_actual = actual_cords\n",
    "    \n",
    "    ##common area in x-axis\n",
    "    commomn_x_area = max(0, (min(x_max_pred, x_max_actual) - max(x_min_pred,  x_min_actual)))\n",
    "    \n",
    "    ##common-area in y-axis\n",
    "    commomn_y_area = max(0, (min(y_max_pred, y_max_actual) - max(y_min_pred,  y_min_actual)))\n",
    "    \n",
    "    ##getting the common area between two images\n",
    "    intersection_area = commomn_x_area * commomn_y_area\n",
    "\n",
    "    \n",
    "    return intersection_area"
   ]
  },
  {
   "cell_type": "code",
   "execution_count": 33,
   "id": "b47874b5",
   "metadata": {},
   "outputs": [],
   "source": [
    "def estimate_union_area(pred_cords, actual_cords):\n",
    "    \n",
    "    x_min_pred, y_min_pred, x_max_pred, y_max_pred = pred_cords\n",
    "    \n",
    "    x_min_actual, y_min_actual, x_max_actual, y_max_actual = actual_cords\n",
    "    \n",
    "    \n",
    "    area_pred =  (x_max_pred -  x_min_pred) * (y_max_pred - y_min_pred)\n",
    "    \n",
    "    area_actual = (x_max_actual -  x_min_actual) * (y_max_actual - y_min_actual)\n",
    "    \n",
    "    area_estimated_union = area_pred + area_actual - estimate_intersect_area(pred_cords, actual_cords)\n",
    "    \n",
    "    return area_estimated_union"
   ]
  },
  {
   "cell_type": "code",
   "execution_count": 34,
   "id": "610d3a4c",
   "metadata": {},
   "outputs": [],
   "source": [
    "def estimate_iou_calculate(pred_bbox, actual_bbox):\n",
    "    \n",
    "    area_intersected = estimate_intersect_area(pred_bbox, actual_bbox)\n",
    "    area_union = estimate_union_area(pred_bbox, actual_bbox)\n",
    "    estimate_iou = area_intersected / area_union\n",
    "    return estimate_iou"
   ]
  },
  {
   "cell_type": "code",
   "execution_count": 35,
   "id": "99801bf0",
   "metadata": {},
   "outputs": [],
   "source": [
    "measures_iou = []\n",
    "for m, n in zip(list_of_coords, actual_coordinates):\n",
    "    iou_img = estimate_iou_calculate(m, n)\n",
    "    measures_iou .append(iou_img)"
   ]
  },
  {
   "cell_type": "code",
   "execution_count": 36,
   "id": "b5adb7da",
   "metadata": {},
   "outputs": [
    {
     "data": {
      "text/plain": [
       "[0.7031871958033562,\n",
       " 0.4172052473804351,\n",
       " 0.4936002228115426,\n",
       " 0.802507653400772,\n",
       " 0.5822766492411772,\n",
       " 0.5807368844850532,\n",
       " 0.6319726476771317,\n",
       " 0.3206821536788128,\n",
       " 0.1816947831697019,\n",
       " 0.09201623815967523,\n",
       " 0.5675887394519126,\n",
       " 0.043766268177496535,\n",
       " 0.7720478556512257,\n",
       " 0.2062540404145726,\n",
       " 0.5860001202738808,\n",
       " 0.10829975825946817,\n",
       " 0.6015213630209116,\n",
       " 0.5894024128794193,\n",
       " 0.03735129834136358,\n",
       " 0.593959860316973,\n",
       " 0.60234027858178,\n",
       " 0.17419681981864724,\n",
       " 0.5774533850879908,\n",
       " 0.9173422939418212,\n",
       " 0.5647265896051585,\n",
       " 0.9868906386131762,\n",
       " 0.6773756531836655,\n",
       " 0.3919795111197562,\n",
       " 0.2529461774900268,\n",
       " 0.448589071185225,\n",
       " 0.6304617653384128,\n",
       " 0.30244158571803625,\n",
       " 0.7174495247346145,\n",
       " 0.2732120075456062,\n",
       " 0.0,\n",
       " 0.3408120463165298,\n",
       " 0.49570206300975533,\n",
       " 0.0792395790942387,\n",
       " 0.18423366430057259,\n",
       " 0.4070165094339623,\n",
       " 0.4637333636028264,\n",
       " 0.3657227175687555,\n",
       " 0.06740672922865644,\n",
       " 0.791424865160101,\n",
       " 0.1745814723665421,\n",
       " 0.29279391375448827,\n",
       " 0.6912995647390826,\n",
       " 0.10102087460003048,\n",
       " 0.14958782923396555,\n",
       " 0.157471544432455,\n",
       " 0.6589268718274112,\n",
       " 0.09524757732643037,\n",
       " 0.1740677986762071,\n",
       " 0.13385645049619202,\n",
       " 0.2742937821072567,\n",
       " 0.8941864201241695,\n",
       " 0.04294559625217451,\n",
       " 0.05367319169574414,\n",
       " 0.1527747551686616,\n",
       " 0.490613441272943,\n",
       " 0.9706081394885949,\n",
       " 0.2269352054321556,\n",
       " 0.5103553258823058,\n",
       " 0.39220484138774797,\n",
       " 0.27787015482392935,\n",
       " 0.5692495345701997,\n",
       " 0.7199747155499368,\n",
       " 0.1722928909022061,\n",
       " 0.20796888442787495,\n",
       " 0.3408313437622492,\n",
       " 0.7225627760848511,\n",
       " 0.9444517862649222]"
      ]
     },
     "execution_count": 36,
     "metadata": {},
     "output_type": "execute_result"
    }
   ],
   "source": [
    "measures_iou"
   ]
  },
  {
   "cell_type": "code",
   "execution_count": 37,
   "id": "23596fe0",
   "metadata": {},
   "outputs": [
    {
     "data": {
      "text/plain": [
       "0.419686318262846"
      ]
     },
     "execution_count": 37,
     "metadata": {},
     "output_type": "execute_result"
    }
   ],
   "source": [
    "mean_iou = sum(measures_iou) / len(measures_iou)\n",
    "mean_iou"
   ]
  },
  {
   "cell_type": "code",
   "execution_count": 38,
   "id": "0e9f3071",
   "metadata": {},
   "outputs": [
    {
     "name": "stdout",
     "output_type": "stream",
     "text": [
      "Mean IOU between Center of Prdicted and Actual is:  0.419686318262846\n"
     ]
    }
   ],
   "source": [
    "print(\"Mean IOU between Center of Prdicted and Actual is: \", mean_iou)"
   ]
  },
  {
   "cell_type": "code",
   "execution_count": 39,
   "id": "ef475c71",
   "metadata": {},
   "outputs": [
    {
     "name": "stdout",
     "output_type": "stream",
     "text": [
      "Standard Deviation between Center of Prdicted and Actual is:  0.2650276272925348\n"
     ]
    }
   ],
   "source": [
    "standard_dev_btwn_centers_iou = calculate_Standard_dev(measures_iou, mean_iou)\n",
    "print(\"Standard Deviation between Center of Prdicted and Actual is: \", standard_dev_btwn_centers_iou)"
   ]
  },
  {
   "cell_type": "code",
   "execution_count": null,
   "id": "885161fb",
   "metadata": {},
   "outputs": [],
   "source": []
  }
 ],
 "metadata": {
  "kernelspec": {
   "display_name": "Python 3 (ipykernel)",
   "language": "python",
   "name": "python3"
  },
  "language_info": {
   "codemirror_mode": {
    "name": "ipython",
    "version": 3
   },
   "file_extension": ".py",
   "mimetype": "text/x-python",
   "name": "python",
   "nbconvert_exporter": "python",
   "pygments_lexer": "ipython3",
   "version": "3.9.12"
  }
 },
 "nbformat": 4,
 "nbformat_minor": 5
}
