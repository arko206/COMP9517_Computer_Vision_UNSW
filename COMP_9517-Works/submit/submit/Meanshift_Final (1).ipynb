{
 "cells": [
  {
   "cell_type": "code",
   "execution_count": 1,
   "id": "5f2369d4",
   "metadata": {},
   "outputs": [],
   "source": [
    "import numpy as np\n",
    "from sklearn.cluster import MeanShift, estimate_bandwidth\n",
    "import matplotlib.pyplot as plt\n",
    "import cv2"
   ]
  },
  {
   "cell_type": "markdown",
   "id": "b9987e21",
   "metadata": {},
   "source": [
    "##### New Function Created for HSV Color Space"
   ]
  },
  {
   "cell_type": "code",
   "execution_count": 2,
   "id": "7bed5217",
   "metadata": {},
   "outputs": [],
   "source": [
    "def Detection_Using_HSVColorspace(image, x_min, y_min, width, height):\n",
    "    \n",
    "    ##getting region of interest\n",
    "    region_of_interest = image[y_min: y_min+height, x_min:x_min+width]\n",
    "    \n",
    "    ##converting region of interest from BGR to HSV Format\n",
    "    region_of_int_hsv = cv2.cvtColor(region_of_interest, cv2.COLOR_BGR2HSV)\n",
    "    \n",
    "    \n",
    "    ##getting the histogram for hue channel of region of interest in hsv\n",
    "    histogram_regio_of_int = cv2.calcHist([region_of_int_hsv], [0], None, [180], [0, 180])\n",
    "    \n",
    "    \n",
    "    ##converting the image to hsv format\n",
    "    image_hsv = cv2.cvtColor(image, cv2.COLOR_BGR2HSV)\n",
    "    \n",
    "    ##creating the mask from the hsv image and region of interest histogram\n",
    "    hsv_mask = cv2.calcBackProject([image_hsv], [0], histogram_regio_of_int, [0, 180], 1)\n",
    "    \n",
    "    ##termination criteria has been set to 10 iterations for mean shift algorithm, \n",
    "    ## moving by 1point on the image and mean shift operation is stopped with error \n",
    "    ## termed by 'TERM_CRITERIA_EPS'\n",
    "    metric_used = (cv2.TERM_CRITERIA_EPS|cv2.TERM_CRITERIA_COUNT, 10, 1) \n",
    "    \n",
    "    \n",
    "    ##applying the meanshift with the mask\n",
    "    ret, detector_win = cv2.meanShift(hsv_mask, (x_min, y_min, width, height),  metric_used)\n",
    "    \n",
    "    ##getting the coordinates of the updated bounding box/window\n",
    "    x, y, w, h = detector_win\n",
    "    \n",
    "    return x, y, x+w, y+h"
   ]
  },
  {
   "cell_type": "markdown",
   "id": "87534d13",
   "metadata": {},
   "source": [
    "###### Loading the Training Dataset Images"
   ]
  },
  {
   "cell_type": "code",
   "execution_count": 10,
   "id": "d69cfb81",
   "metadata": {},
   "outputs": [],
   "source": [
    "import os\n",
    "import json\n",
    "def loading_of_dataset(directory):\n",
    "    imgs_dir = os.listdir(directory)\n",
    "    \n",
    "    \n",
    "    count = 0\n",
    "    \n",
    "    ##going through annotations folder in valid directory\n",
    "    train_annotations_dir = 'train_annotations'\n",
    "    \n",
    "    ##going through the file and reading loading the contents\n",
    "    with open(train_annotations_dir , 'r') as f:\n",
    "         train_annotations_given = json.load(f)\n",
    "\n",
    "    \n",
    "    \n",
    "    \n",
    "    \n",
    "    for label in imgs_dir:\n",
    "        img_dir = os.path.join(directory, label)##taking the full image directory\n",
    "        image = cv2.imread(img_dir)\n",
    "        img_rgb = image[:,:,::-1]\n",
    "        \n",
    "        ###getting the coordinates of the bounding box of the respective images in annotation file\n",
    "        x_min, y_min, width, height = train_annotations_given[count]['bbox']\n",
    "        \n",
    "        ###getting the coordinates detected from the function\n",
    "        min_x, min_y, max_x, max_y =  Detection_Using_HSVColorspace(image, x_min, y_min, width, height)\n",
    "        \n",
    "        cropped_image = image[min_y:max_y, min_x:max_x]\n",
    "        \n",
    "        cv2.imwrite('MeanShift_Train_Images/{}.jpg'.format(count), cropped_image)\n",
    "        count = count + 1\n",
    "        "
   ]
  },
  {
   "cell_type": "code",
   "execution_count": 11,
   "id": "c824956b",
   "metadata": {},
   "outputs": [],
   "source": [
    "train_directory = 'Penguins vs Turtles/archive/train/train'\n",
    "loading_of_dataset(train_directory)"
   ]
  },
  {
   "cell_type": "markdown",
   "id": "410c9657",
   "metadata": {},
   "source": [
    "###### Loading the Validation Dataset Images"
   ]
  },
  {
   "cell_type": "code",
   "execution_count": 3,
   "id": "ff57ff42",
   "metadata": {},
   "outputs": [],
   "source": [
    "import os\n",
    "import json\n",
    "def loading_of_dataset(directory):\n",
    "    imgs_dir = os.listdir(directory)\n",
    "    \n",
    "    \n",
    "    count = 0\n",
    "    imgs_dir = imgs_dir[0:]\n",
    "    predicted_coordinates = []\n",
    "    \n",
    "    ##going through annotations folder in valid directory\n",
    "    valid_annotations_dir = 'valid_annotations'\n",
    "    \n",
    "    ##going through the file and reading loading the contents\n",
    "    with open(valid_annotations_dir , 'r') as f:\n",
    "         valid_annotations_given = json.load(f)\n",
    "\n",
    "    \n",
    "    \n",
    "    \n",
    "    \n",
    "    for label in imgs_dir:\n",
    "        img_dir = os.path.join(directory, label)##taking the full image directory\n",
    "        image = cv2.imread(img_dir)\n",
    "        img_rgb = image[:,:,::-1]\n",
    "        \n",
    "        \n",
    "        x_min, y_min, width, height = valid_annotations_given[count]['bbox']\n",
    "        \n",
    "        min_x, min_y, max_x, max_y =  Detection_Using_HSVColorspace(image, x_min, y_min, width, height)\n",
    "        \n",
    "        predicted_coordinates.append([ min_x, min_y, max_x, max_y])\n",
    "        \n",
    "        cropped_image = image[min_y:max_y, min_x:max_x]\n",
    "        \n",
    "        cv2.imwrite('MeanShift_Valid_Images/{}.jpg'.format(count), cropped_image)\n",
    "        count = count + 1\n",
    "        \n",
    "    return predicted_coordinates        "
   ]
  },
  {
   "cell_type": "code",
   "execution_count": 4,
   "id": "c237bc84",
   "metadata": {},
   "outputs": [],
   "source": [
    "valid_directory = 'Penguins vs Turtles/archive/valid/valid'\n",
    "list_of_coords = loading_of_dataset(valid_directory)"
   ]
  },
  {
   "cell_type": "code",
   "execution_count": 5,
   "id": "767b0808",
   "metadata": {},
   "outputs": [
    {
     "data": {
      "text/plain": [
       "[[227, 83, 525, 608],\n",
       " [211, 198, 639, 457],\n",
       " [0, 233, 512, 500],\n",
       " [128, 178, 585, 532],\n",
       " [168, 135, 464, 604],\n",
       " [0, 121, 445, 592],\n",
       " [53, 161, 491, 483],\n",
       " [178, 242, 432, 518],\n",
       " [375, 228, 564, 543],\n",
       " [364, 200, 505, 446],\n",
       " [145, 173, 630, 533],\n",
       " [123, 271, 474, 387],\n",
       " [131, 39, 630, 421],\n",
       " [126, 414, 519, 565],\n",
       " [178, 109, 464, 592],\n",
       " [363, 187, 618, 406],\n",
       " [103, 167, 599, 433],\n",
       " [50, 167, 536, 640],\n",
       " [107, 293, 263, 366],\n",
       " [114, 205, 625, 428],\n",
       " [127, 101, 523, 506],\n",
       " [169, 311, 452, 538],\n",
       " [0, 228, 414, 436],\n",
       " [136, 238, 494, 523],\n",
       " [33, 138, 291, 526],\n",
       " [17, 202, 621, 405],\n",
       " [4, 179, 490, 529],\n",
       " [252, 158, 640, 376],\n",
       " [206, 256, 439, 372],\n",
       " [183, 231, 542, 454],\n",
       " [61, 127, 514, 580],\n",
       " [171, 287, 464, 430],\n",
       " [64, 189, 470, 544],\n",
       " [75, 274, 423, 418],\n",
       " [241, 321, 356, 384],\n",
       " [155, 161, 489, 486],\n",
       " [66, 186, 609, 460],\n",
       " [249, 281, 343, 455],\n",
       " [183, 142, 325, 505],\n",
       " [168, 170, 640, 404],\n",
       " [84, 251, 490, 573],\n",
       " [232, 230, 585, 405],\n",
       " [306, 252, 510, 509],\n",
       " [99, 61, 582, 541],\n",
       " [252, 205, 524, 374],\n",
       " [157, 194, 441, 396],\n",
       " [120, 144, 396, 447],\n",
       " [182, 199, 416, 432],\n",
       " [218, 160, 565, 547],\n",
       " [230, 174, 386, 387],\n",
       " [0, 229, 583, 514],\n",
       " [79, 128, 451, 533],\n",
       " [174, 245, 412, 377],\n",
       " [139, 182, 359, 414],\n",
       " [214, 227, 439, 449],\n",
       " [159, 48, 517, 587],\n",
       " [150, 189, 212, 320],\n",
       " [263, 127, 636, 525],\n",
       " [217, 344, 523, 606],\n",
       " [76, 181, 520, 466],\n",
       " [197, 117, 639, 458],\n",
       " [248, 192, 406, 515],\n",
       " [18, 206, 474, 534],\n",
       " [33, 162, 305, 497],\n",
       " [260, 198, 539, 489],\n",
       " [137, 93, 558, 278],\n",
       " [0, 295, 452, 463],\n",
       " [215, 283, 488, 418],\n",
       " [48, 228, 253, 511],\n",
       " [152, 99, 503, 426],\n",
       " [13, 77, 552, 531],\n",
       " [213, 32, 558, 361]]"
      ]
     },
     "execution_count": 5,
     "metadata": {},
     "output_type": "execute_result"
    }
   ],
   "source": [
    "list_of_coords"
   ]
  },
  {
   "cell_type": "code",
   "execution_count": 6,
   "id": "731e6652",
   "metadata": {},
   "outputs": [],
   "source": [
    "valid_annotations_dir = 'valid_annotations'\n",
    "\n",
    "with open(valid_annotations_dir, 'r') as f:\n",
    "    valid_annotations_given = json.load(f)"
   ]
  },
  {
   "cell_type": "code",
   "execution_count": 7,
   "id": "d865e850",
   "metadata": {},
   "outputs": [],
   "source": [
    "actual_coordinates = []\n",
    "\n",
    "for i in range(len(list_of_coords)):\n",
    "    ##getting x_max = width + x_min\n",
    "    x_min, y_min, width, height = valid_annotations_given[i]['bbox']\n",
    "    actual_coordinates.append([x_min, y_min, x_min + width, y_min + height])"
   ]
  },
  {
   "cell_type": "code",
   "execution_count": 8,
   "id": "e9e1ee73",
   "metadata": {},
   "outputs": [
    {
     "data": {
      "text/plain": [
       "[[227, 93, 525, 618],\n",
       " [211, 198, 639, 457],\n",
       " [0, 243, 512, 510],\n",
       " [128, 178, 585, 532],\n",
       " [168, 131, 464, 600],\n",
       " [6, 121, 451, 592],\n",
       " [63, 161, 501, 483],\n",
       " [188, 252, 442, 528],\n",
       " [375, 237, 564, 552],\n",
       " [364, 223, 505, 469],\n",
       " [155, 173, 640, 533],\n",
       " [133, 271, 484, 387],\n",
       " [141, 39, 640, 421],\n",
       " [126, 414, 519, 565],\n",
       " [178, 119, 464, 602],\n",
       " [363, 187, 618, 406],\n",
       " [103, 167, 599, 433],\n",
       " [60, 167, 546, 640],\n",
       " [164, 284, 320, 357],\n",
       " [114, 205, 625, 428],\n",
       " [137, 111, 533, 516],\n",
       " [159, 321, 442, 548],\n",
       " [0, 228, 414, 436],\n",
       " [156, 248, 514, 533],\n",
       " [43, 138, 301, 526],\n",
       " [35, 209, 639, 412],\n",
       " [4, 169, 490, 519],\n",
       " [252, 168, 640, 386],\n",
       " [223, 256, 456, 372],\n",
       " [193, 231, 552, 454],\n",
       " [61, 127, 514, 580],\n",
       " [171, 297, 464, 440],\n",
       " [76, 179, 482, 534],\n",
       " [75, 306, 423, 450],\n",
       " [231, 333, 346, 396],\n",
       " [155, 161, 489, 486],\n",
       " [56, 186, 599, 460],\n",
       " [258, 294, 352, 468],\n",
       " [193, 152, 335, 515],\n",
       " [168, 180, 640, 414],\n",
       " [94, 251, 500, 573],\n",
       " [232, 230, 585, 405],\n",
       " [316, 252, 520, 509],\n",
       " [99, 81, 582, 561],\n",
       " [252, 215, 524, 384],\n",
       " [177, 204, 461, 406],\n",
       " [130, 154, 406, 457],\n",
       " [199, 199, 433, 432],\n",
       " [228, 170, 575, 557],\n",
       " [240, 184, 396, 397],\n",
       " [1, 229, 584, 514],\n",
       " [97, 128, 469, 533],\n",
       " [174, 245, 412, 377],\n",
       " [139, 192, 359, 424],\n",
       " [224, 246, 449, 468],\n",
       " [169, 48, 527, 587],\n",
       " [178, 251, 240, 382],\n",
       " [263, 127, 636, 525],\n",
       " [217, 344, 523, 606],\n",
       " [76, 181, 520, 466],\n",
       " [197, 127, 639, 468],\n",
       " [248, 192, 406, 515],\n",
       " [28, 206, 484, 534],\n",
       " [53, 162, 325, 497],\n",
       " [260, 198, 539, 489],\n",
       " [137, 93, 558, 278],\n",
       " [2, 292, 454, 460],\n",
       " [198, 288, 471, 423],\n",
       " [58, 225, 263, 508],\n",
       " [162, 109, 513, 436],\n",
       " [23, 87, 562, 541],\n",
       " [213, 38, 558, 367]]"
      ]
     },
     "execution_count": 8,
     "metadata": {},
     "output_type": "execute_result"
    }
   ],
   "source": [
    "actual_coordinates"
   ]
  },
  {
   "cell_type": "code",
   "execution_count": 9,
   "id": "02a22cb9",
   "metadata": {},
   "outputs": [],
   "source": [
    "import math\n",
    "\n",
    "def estimate_centre_pos(coords_list):\n",
    "    \n",
    "    ##getting the following coordinates\n",
    "    x_min, y_min, x_max, y_max = coords_list\n",
    "    \n",
    "    ##estimating center pos of x-coordinate\n",
    "    x_center = (x_min + x_max)/2 \n",
    "    \n",
    "    ##estimating center pos of y-coordinate\n",
    "    y_center = (y_min + y_max)/2 \n",
    "    \n",
    "    \n",
    "    return x_center, y_center   \n",
    "\n",
    "\n",
    "def Euclid_Dist_coords(pred_list, actual_list):\n",
    "    \n",
    "    ##getting centre positions of predicted bounding box\n",
    "    center_x_pred, center_y_pred = estimate_centre_pos(pred_list)\n",
    "    \n",
    "    ##getting center positions of actual bounding box\n",
    "    center_x_actual, center_y_actual = estimate_centre_pos(actual_list)\n",
    "    \n",
    "    ##calculating the euclidean distance\n",
    "    centre_distance = math.sqrt((center_x_pred - center_x_actual)**2 + (center_y_pred - center_y_actual)**2)\n",
    "    \n",
    "    return centre_distance  "
   ]
  },
  {
   "cell_type": "code",
   "execution_count": 10,
   "id": "1f198d85",
   "metadata": {},
   "outputs": [],
   "source": [
    "measures_dist = []\n",
    "for i, j in zip(list_of_coords, actual_coordinates):\n",
    "    dist = Euclid_Dist_coords(i, j)\n",
    "    measures_dist.append(dist)"
   ]
  },
  {
   "cell_type": "code",
   "execution_count": 11,
   "id": "27ec8113",
   "metadata": {},
   "outputs": [
    {
     "data": {
      "text/plain": [
       "[10.0,\n",
       " 0.0,\n",
       " 10.0,\n",
       " 0.0,\n",
       " 4.0,\n",
       " 6.0,\n",
       " 10.0,\n",
       " 14.142135623730951,\n",
       " 9.0,\n",
       " 23.0,\n",
       " 10.0,\n",
       " 10.0,\n",
       " 10.0,\n",
       " 0.0,\n",
       " 10.0,\n",
       " 0.0,\n",
       " 0.0,\n",
       " 10.0,\n",
       " 57.706152185014034,\n",
       " 0.0,\n",
       " 14.142135623730951,\n",
       " 14.142135623730951,\n",
       " 0.0,\n",
       " 22.360679774997898,\n",
       " 10.0,\n",
       " 19.313207915827967,\n",
       " 10.0,\n",
       " 10.0,\n",
       " 17.0,\n",
       " 10.0,\n",
       " 0.0,\n",
       " 10.0,\n",
       " 15.620499351813308,\n",
       " 32.0,\n",
       " 15.620499351813308,\n",
       " 0.0,\n",
       " 10.0,\n",
       " 15.811388300841896,\n",
       " 14.142135623730951,\n",
       " 10.0,\n",
       " 10.0,\n",
       " 0.0,\n",
       " 10.0,\n",
       " 20.0,\n",
       " 10.0,\n",
       " 22.360679774997898,\n",
       " 14.142135623730951,\n",
       " 17.0,\n",
       " 14.142135623730951,\n",
       " 14.142135623730951,\n",
       " 1.0,\n",
       " 18.0,\n",
       " 0.0,\n",
       " 10.0,\n",
       " 21.470910553583888,\n",
       " 10.0,\n",
       " 68.0294054067798,\n",
       " 0.0,\n",
       " 0.0,\n",
       " 0.0,\n",
       " 10.0,\n",
       " 0.0,\n",
       " 10.0,\n",
       " 20.0,\n",
       " 0.0,\n",
       " 0.0,\n",
       " 3.605551275463989,\n",
       " 17.72004514666935,\n",
       " 10.44030650891055,\n",
       " 14.142135623730951,\n",
       " 14.142135623730951,\n",
       " 6.0]"
      ]
     },
     "execution_count": 11,
     "metadata": {},
     "output_type": "execute_result"
    }
   ],
   "source": [
    "measures_dist"
   ]
  },
  {
   "cell_type": "code",
   "execution_count": 12,
   "id": "413b0b15",
   "metadata": {},
   "outputs": [
    {
     "name": "stdout",
     "output_type": "stream",
     "text": [
      "Mean Distance between Center of Prdicted and Actual is:  11.254702030004061\n"
     ]
    }
   ],
   "source": [
    "mean_dist_btwn_centres = sum(measures_dist)/len(measures_dist)\n",
    "print(\"Mean Distance between Center of Prdicted and Actual is: \", mean_dist_btwn_centres)"
   ]
  },
  {
   "cell_type": "code",
   "execution_count": 13,
   "id": "0dd139a4",
   "metadata": {},
   "outputs": [],
   "source": [
    "def calculate_Standard_dev(data, mean):\n",
    "    \n",
    "    #mean = calculate_mean(data)\n",
    "    \n",
    "    sum_squared_diff = 0\n",
    "    for x in data:\n",
    "        sq_diff = (x - mean) ** 2\n",
    "        sum_squared_diff = sum_squared_diff + sq_diff\n",
    "        \n",
    "        \n",
    "    variance = sum_squared_diff / len(data)\n",
    "    \n",
    "    standard_dev = math.sqrt(variance)\n",
    "\n",
    "    return  standard_dev"
   ]
  },
  {
   "cell_type": "code",
   "execution_count": 14,
   "id": "8ab70044",
   "metadata": {},
   "outputs": [
    {
     "name": "stdout",
     "output_type": "stream",
     "text": [
      "Standard Deviation between Center of Prdicted and Actual is:  11.347344965734406\n"
     ]
    }
   ],
   "source": [
    "standard_dev_btwn_centers = calculate_Standard_dev(measures_dist, mean_dist_btwn_centres)\n",
    "print(\"Standard Deviation between Center of Prdicted and Actual is: \", standard_dev_btwn_centers)"
   ]
  },
  {
   "cell_type": "code",
   "execution_count": 15,
   "id": "3275f599",
   "metadata": {},
   "outputs": [],
   "source": [
    "def estimate_intersect_area(pred_cords, actual_cords):\n",
    "    \n",
    "    x_min_pred, y_min_pred, x_max_pred, y_max_pred = pred_cords\n",
    "    \n",
    "    x_min_actual, y_min_actual, x_max_actual, y_max_actual = actual_cords\n",
    "    \n",
    "    ##common area in x-axis\n",
    "    commomn_x_area = max(0, (min(x_max_pred, x_max_actual) - max(x_min_pred,  x_min_actual)))\n",
    "    \n",
    "    ##common-area in y-axis\n",
    "    commomn_y_area = max(0, (min(y_max_pred, y_max_actual) - max(y_min_pred,  y_min_actual)))\n",
    "    \n",
    "    ##getting the common area between two images\n",
    "    intersection_area = commomn_x_area * commomn_y_area\n",
    "\n",
    "    \n",
    "    return intersection_area"
   ]
  },
  {
   "cell_type": "code",
   "execution_count": 16,
   "id": "b5807a27",
   "metadata": {},
   "outputs": [],
   "source": [
    "def estimate_union_area(pred_cords, actual_cords):\n",
    "    \n",
    "    x_min_pred, y_min_pred, x_max_pred, y_max_pred = pred_cords\n",
    "    \n",
    "    x_min_actual, y_min_actual, x_max_actual, y_max_actual = actual_cords\n",
    "    \n",
    "    \n",
    "    area_pred =  (x_max_pred -  x_min_pred) * (y_max_pred - y_min_pred)\n",
    "    \n",
    "    area_actual = (x_max_actual -  x_min_actual) * (y_max_actual - y_min_actual)\n",
    "    \n",
    "    area_estimated_union = area_pred + area_actual - estimate_intersect_area(pred_cords, actual_cords)\n",
    "    \n",
    "    return area_estimated_union"
   ]
  },
  {
   "cell_type": "code",
   "execution_count": 17,
   "id": "1dee9ee2",
   "metadata": {},
   "outputs": [],
   "source": [
    "def estimate_iou_calculate(pred_bbox, actual_bbox):\n",
    "    \n",
    "    area_intersected = estimate_intersect_area(pred_bbox, actual_bbox)\n",
    "    area_union = estimate_union_area(pred_bbox, actual_bbox)\n",
    "    estimate_iou = area_intersected / area_union\n",
    "    return estimate_iou"
   ]
  },
  {
   "cell_type": "code",
   "execution_count": 18,
   "id": "7bd4689e",
   "metadata": {},
   "outputs": [],
   "source": [
    "measures_iou = []\n",
    "for m, n in zip(list_of_coords, actual_coordinates):\n",
    "    iou_img = estimate_iou_calculate(m, n)\n",
    "    measures_iou .append(iou_img)"
   ]
  },
  {
   "cell_type": "code",
   "execution_count": 19,
   "id": "82ac2779",
   "metadata": {},
   "outputs": [
    {
     "data": {
      "text/plain": [
       "[0.9626168224299065,\n",
       " 1.0,\n",
       " 0.927797833935018,\n",
       " 1.0,\n",
       " 0.9830866807610994,\n",
       " 0.9733924611973392,\n",
       " 0.9553571428571429,\n",
       " 0.8618931265271433,\n",
       " 0.9444444444444444,\n",
       " 0.828996282527881,\n",
       " 0.9595959595959596,\n",
       " 0.9445983379501385,\n",
       " 0.9607072691552063,\n",
       " 1.0,\n",
       " 0.9594320486815415,\n",
       " 1.0,\n",
       " 1.0,\n",
       " 0.9596774193548387,\n",
       " 0.3854014598540146,\n",
       " 1.0,\n",
       " 0.9059956028284509,\n",
       " 0.855576898080617,\n",
       " 1.0,\n",
       " 0.8365583655836558,\n",
       " 0.9253731343283582,\n",
       " 0.8810137457044673,\n",
       " 0.9444444444444444,\n",
       " 0.9122807017543859,\n",
       " 0.864,\n",
       " 0.94579945799458,\n",
       " 1.0,\n",
       " 0.869281045751634,\n",
       " 0.8923390008534103,\n",
       " 0.6363636363636364,\n",
       " 0.5862068965517241,\n",
       " 1.0,\n",
       " 0.9638336347197106,\n",
       " 0.719241078467441,\n",
       " 0.8247663551401869,\n",
       " 0.9180327868852459,\n",
       " 0.9519230769230769,\n",
       " 1.0,\n",
       " 0.9065420560747663,\n",
       " 0.92,\n",
       " 0.888268156424581,\n",
       " 0.7914064451661255,\n",
       " 0.8725900714301709,\n",
       " 0.8645418326693227,\n",
       " 0.8976888128934706,\n",
       " 0.8049866912923027,\n",
       " 0.9965753424657534,\n",
       " 0.9076923076923077,\n",
       " 1.0,\n",
       " 0.9173553719008265,\n",
       " 0.7758421473646787,\n",
       " 0.9456521739130435,\n",
       " 0.16880126636926177,\n",
       " 1.0,\n",
       " 1.0,\n",
       " 1.0,\n",
       " 0.9430199430199431,\n",
       " 1.0,\n",
       " 0.9570815450643777,\n",
       " 0.863013698630137,\n",
       " 1.0,\n",
       " 1.0,\n",
       " 0.9565587075829017,\n",
       " 0.8231511254019293,\n",
       " 0.8888165391502523,\n",
       " 0.8900022230089661,\n",
       " 0.9227614168526259,\n",
       " 0.9641791044776119]"
      ]
     },
     "execution_count": 19,
     "metadata": {},
     "output_type": "execute_result"
    }
   ],
   "source": [
    "measures_iou"
   ]
  },
  {
   "cell_type": "code",
   "execution_count": 20,
   "id": "eaf83490",
   "metadata": {},
   "outputs": [
    {
     "name": "stdout",
     "output_type": "stream",
     "text": [
      "Mean IOU between Center of Prdicted and Actual is:  0.9014799184790563\n"
     ]
    }
   ],
   "source": [
    "mean_iou = sum(measures_iou) / len(measures_iou)\n",
    "mean_iou\n",
    "\n",
    "print(\"Mean IOU between Center of Prdicted and Actual is: \", mean_iou)"
   ]
  },
  {
   "cell_type": "code",
   "execution_count": 21,
   "id": "87acea90",
   "metadata": {},
   "outputs": [
    {
     "name": "stdout",
     "output_type": "stream",
     "text": [
      "Standard Deviation between Center of Prdicted and Actual is:  0.13499728466406788\n"
     ]
    }
   ],
   "source": [
    "standard_dev_btwn_centers_iou = calculate_Standard_dev(measures_iou, mean_iou)\n",
    "print(\"Standard Deviation between Center of Prdicted and Actual is: \", standard_dev_btwn_centers_iou)"
   ]
  }
 ],
 "metadata": {
  "kernelspec": {
   "display_name": "Python 3 (ipykernel)",
   "language": "python",
   "name": "python3"
  },
  "language_info": {
   "codemirror_mode": {
    "name": "ipython",
    "version": 3
   },
   "file_extension": ".py",
   "mimetype": "text/x-python",
   "name": "python",
   "nbconvert_exporter": "python",
   "pygments_lexer": "ipython3",
   "version": "3.9.12"
  }
 },
 "nbformat": 4,
 "nbformat_minor": 5
}
